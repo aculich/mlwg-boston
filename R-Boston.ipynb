{
 "cells": [
  {
   "cell_type": "code",
   "execution_count": null,
   "metadata": {
    "collapsed": false,
    "deletable": true,
    "editable": true
   },
   "outputs": [],
   "source": [
    "# load BostonHousing dataset from \"mlbench\" package\n",
    "# https://cran.r-project.org/web/packages/mlbench/index.html\n",
    "Boston = read.csv(\"BostonHousing.csv\")\n",
    "\n",
    "# view first 10 rows of dataset\n",
    "head(Boston, n=10)"
   ]
  },
  {
   "cell_type": "code",
   "execution_count": null,
   "metadata": {
    "collapsed": false,
    "deletable": true,
    "editable": true,
    "scrolled": true
   },
   "outputs": [],
   "source": [
    "# recode \"dis\" as factor/categorical variable\n",
    "Boston$dis = cut(Boston$dis, \n",
    "                 breaks=c(0, 3, 6, 13),\n",
    "                 levels=c(1,2,3),\n",
    "                 labels=c(\"short\", \"medium\", \"long\"))"
   ]
  },
  {
   "cell_type": "code",
   "execution_count": null,
   "metadata": {
    "collapsed": false,
    "deletable": true,
    "editable": true
   },
   "outputs": [],
   "source": [
    "# check that dis is now a factor/categorical variable\n",
    "str(Boston)"
   ]
  },
  {
   "cell_type": "code",
   "execution_count": null,
   "metadata": {
    "collapsed": false,
    "deletable": true,
    "editable": true
   },
   "outputs": [],
   "source": [
    "# summarize data\n",
    "summary(Boston)"
   ]
  },
  {
   "cell_type": "code",
   "execution_count": null,
   "metadata": {
    "collapsed": false,
    "deletable": true,
    "editable": true
   },
   "outputs": [],
   "source": [
    "# boxplot of tax\n",
    "library(ggplot2)\n",
    "ggplot(Boston, aes(x=dis, y=ptratio)) + \n",
    "    geom_boxplot(fill=sample(colors(), 3, replace=FALSE)) + \n",
    "    ggtitle(\"boxplots of tax by dis\")"
   ]
  },
  {
   "cell_type": "code",
   "execution_count": null,
   "metadata": {
    "collapsed": false,
    "deletable": true,
    "editable": true
   },
   "outputs": [],
   "source": [
    "# barplots of dis\n",
    "ggplot(Boston, aes(dis)) + geom_bar(fill=sample(colors(), 3, replace=FALSE))"
   ]
  },
  {
   "cell_type": "code",
   "execution_count": null,
   "metadata": {
    "collapsed": false,
    "deletable": true,
    "editable": true
   },
   "outputs": [],
   "source": [
    "# scatterplot of age (proportion of homes built before 1940) and medv (median value of homes in 1000s of dollars)\n",
    "library(ggplot2)\n",
    "ggplot(Boston, aes(x=age, y=medv, col=dis)) + \n",
    "    geom_point() +\n",
    "    ggtitle(\"BostonHousing - age versus medv\") + \n",
    "    theme_bw()"
   ]
  },
  {
   "cell_type": "code",
   "execution_count": null,
   "metadata": {
    "collapsed": true,
    "deletable": true,
    "editable": true
   },
   "outputs": [],
   "source": []
  },
  {
   "cell_type": "code",
   "execution_count": null,
   "metadata": {
    "collapsed": true,
    "deletable": true,
    "editable": true
   },
   "outputs": [],
   "source": []
  }
 ],
 "metadata": {
  "anaconda-cloud": {},
  "kernelspec": {
   "display_name": "R",
   "language": "R",
   "name": "ir"
  },
  "language_info": {
   "codemirror_mode": "r",
   "file_extension": ".r",
   "mimetype": "text/x-r-source",
   "name": "R",
   "pygments_lexer": "r",
   "version": "3.3.2"
  }
 },
 "nbformat": 4,
 "nbformat_minor": 1
}
